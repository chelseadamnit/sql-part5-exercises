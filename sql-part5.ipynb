{
 "cells": [
  {
   "cell_type": "markdown",
   "metadata": {
    "azdata_cell_guid": "9d51c166-0c19-4f27-a422-2a6cf596bfb2"
   },
   "source": [
    "# Exercises: Creating, Updating, and Destroying Objects\n",
    "\n",
    "For the exercises, you will be working with objects and data you create. Before opening this notebook, make sure that you have set up the new connection to the server and that you have located the database and your schema.\n",
    "\n",
    "## Object Creation\n",
    "\n",
    "Before coding, think of three things you want to make. These could be coding projects, new recipes, or planned projects for a woodworking hobby. Brainstorm the appropriate column names and data types as well.\n",
    "\n",
    "Create a table under your schema called `planned_makes`."
   ]
  },
  {
   "cell_type": "code",
   "execution_count": null,
   "metadata": {
    "azdata_cell_guid": "d9238911-6f81-4f01-980d-b584307effaf"
   },
   "outputs": [],
   "source": [
    "-- recipe id, recipe name, cook time, prep time, Specialty Diet, cook date\n",
    "\n",
    "\n",
    "-- CREATE TABLE table_name (\n",
    "--     column1 datatype,\n",
    "--     column2 datatype,\n",
    "--     column3 datatype,\n",
    "--    ....\n",
    "-- );\n",
    "\n",
    "\n",
    "CREATE TABLE recipes(\n",
    "  recipeId int NOT NULL AUTO_INCREMENT,\n",
    "  recipeName varchar(255),\n",
    "  prepTimeMinutes int,\n",
    "  cookTimeMinutes int,\n",
    "  specialtyDiet ENUM('None', 'Vegetarian', 'Vegan', 'Pescatarian', 'Carnivore') NOT NULL,\n",
    "  cookDate DATE\n",
    "    );"
   ]
  },
  {
   "cell_type": "markdown",
   "metadata": {
    "azdata_cell_guid": "83cdf34d-8c4f-4fa1-a14e-77384b19d734"
   },
   "source": [
    "Add three rows to your table that are your planned makes."
   ]
  },
  {
   "cell_type": "code",
   "execution_count": null,
   "metadata": {
    "azdata_cell_guid": "e7cff9cb-87ba-4c7b-98f2-eaf445e8719c"
   },
   "outputs": [],
   "source": [
    "-- INSERT INTO table_name\n",
    "-- VALUES (value1, value2, value3, ...);\n",
    "\n",
    "INSERT INTO recipes\n",
    "VALUES('Chicken Teriyaki', 30, 15, 'None', 25-AUG-2023);\n",
    "INSERT INTO recipes\n",
    "VALUES('Red Bean Onigiri', 15, 15, 'Vegan', 30-AUG-2023);\n",
    "INSERT INTO recipes\n",
    "VALUES('Poblano burritos', 30, 25, 'Vegetarian', 2-SEP-2023);"
   ]
  },
  {
   "cell_type": "markdown",
   "metadata": {
    "azdata_cell_guid": "4a39b8d4-ae97-4e09-8336-c5fc6a00d76c"
   },
   "source": [
    "## Update a Row\n",
    "\n",
    "Change different values in one of your three rows."
   ]
  },
  {
   "cell_type": "code",
   "execution_count": null,
   "metadata": {
    "azdata_cell_guid": "7409c695-9581-4ad8-b03a-574d2c4c87cb"
   },
   "outputs": [],
   "source": [
    "-- UPDATE table_name\n",
    "-- SET column1 = value1,\n",
    "--  column2 = value2\n",
    "-- WHERE\n",
    "-- \tcondition;\n",
    "\n",
    "UPDATE recipes\n",
    "SET recipeName= 'Poblano Flautas', prepTimeMinutes=20\n",
    "WHERE recipeName= 'Poblano burritos';"
   ]
  },
  {
   "cell_type": "markdown",
   "metadata": {
    "azdata_cell_guid": "95e91a6e-9038-42d9-9401-5738842aba17"
   },
   "source": [
    "## Delete a Row\n",
    "\n",
    "Delete one of the rows from your table."
   ]
  },
  {
   "cell_type": "code",
   "execution_count": null,
   "metadata": {
    "azdata_cell_guid": "749c748f-19b5-4c69-9004-b6b20216616a"
   },
   "outputs": [],
   "source": [
    "-- DELETE FROM table\n",
    "-- WHERE\n",
    "--     condition;\n",
    "    \n",
    "DELETE FROM recipes\n",
    "WHERE recipeName='Red Bean Onigiri';"
   ]
  },
  {
   "cell_type": "markdown",
   "metadata": {
    "azdata_cell_guid": "2239cb09-137b-4579-905b-1aa020793181"
   },
   "source": [
    "## Drop the Table\n",
    "\n",
    "While this has been fun, it is time to drop the table!"
   ]
  },
  {
   "cell_type": "code",
   "execution_count": null,
   "metadata": {
    "azdata_cell_guid": "b3c7f6ea-ee26-46b3-9c2a-2f7a82c39699"
   },
   "outputs": [],
   "source": [
    "DROP TABLE recipes;"
   ]
  }
 ],
 "metadata": {
  "kernelspec": {
   "display_name": "SQL",
   "language": "sql",
   "name": "SQL"
  },
  "language_info": {
   "name": "sql",
   "version": ""
  }
 },
 "nbformat": 4,
 "nbformat_minor": 4
}
